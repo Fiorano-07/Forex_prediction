{
 "cells": [
  {
   "cell_type": "markdown",
   "id": "2e1cd298",
   "metadata": {},
   "source": [
    "# FOREX trading prediction\n"
   ]
  },
  {
   "cell_type": "markdown",
   "id": "072a7d0d",
   "metadata": {},
   "source": [
    "## Segment 1: Import Necessary Libraries\n",
    "\n",
    "#In this segment, we import the essential libraries for data manipulation (NumPy, Pandas)\n",
    "#fetching forex data (yfinance), data visualization (Matplotlib), and machine learning (scikit-learn).\n"
   ]
  },
  {
   "cell_type": "code",
   "execution_count": 3,
   "id": "fdd9cc93",
   "metadata": {},
   "outputs": [],
   "source": [
    "# Import necessary libraries\n",
    "import numpy as np\n",
    "import pandas as pd\n",
    "import yfinance as yf\n",
    "import matplotlib.pyplot as plt\n",
    "from sklearn.model_selection import train_test_split\n",
    "from sklearn.linear_model import LinearRegression\n",
    "from sklearn.metrics import mean_squared_error, r2_score"
   ]
  },
  {
   "cell_type": "markdown",
   "id": "50caac93",
   "metadata": {},
   "source": [
    "# Segment 2: Download Historical Forex Data\n",
    "\n",
    "This segment uses the yfinance library to download historical forex data for the EUR/USD currency pair from January 1, 2010, to December 31, 2021."
   ]
  },
  {
   "cell_type": "code",
   "execution_count": 4,
   "id": "fa0a3f84",
   "metadata": {},
   "outputs": [
    {
     "name": "stdout",
     "output_type": "stream",
     "text": [
      "[*********************100%***********************]  1 of 1 completed\n"
     ]
    }
   ],
   "source": [
    "# Download historical forex data (e.g., EUR/USD) from Yahoo Finance\n",
    "forex_data = yf.download('EURUSD=X', start='2010-01-01', end='2021-12-31')\n"
   ]
  },
  {
   "cell_type": "markdown",
   "id": "c2e550b4",
   "metadata": {},
   "source": [
    "# Segment 3: Calculate Daily Returns\n",
    "    Here, daily returns are calculated by taking the percentage change of the adjusted closing prices of the forex pair."
   ]
  },
  {
   "cell_type": "code",
   "execution_count": 5,
   "id": "fd636cc6",
   "metadata": {},
   "outputs": [],
   "source": [
    "# Calculate daily returns\n",
    "forex_data['Return'] = forex_data['Adj Close'].pct_change()\n"
   ]
  },
  {
   "cell_type": "markdown",
   "id": "0a5271de",
   "metadata": {},
   "source": [
    "# Segment 4: Drop Missing Values\n",
    "    Any rows with missing values (NaN) in the dataset are removed in this segment."
   ]
  },
  {
   "cell_type": "code",
   "execution_count": 6,
   "id": "3cec53c6",
   "metadata": {},
   "outputs": [],
   "source": [
    "# Drop missing values\n",
    "forex_data = forex_data.dropna()\n"
   ]
  },
  {
   "cell_type": "markdown",
   "id": "1474be2f",
   "metadata": {},
   "source": [
    "# Segment 5: Prepare Data for Prediction\n",
    "In this segment, we create a feature 'Prev_Return' by shifting the 'Return' column by one day. This allows us to use the previous day's return as a feature for predicting the current day's return.    "
   ]
  },
  {
   "cell_type": "code",
   "execution_count": null,
   "id": "6fd7ef35",
   "metadata": {},
   "outputs": [],
   "source": [
    "# Prepare data for prediction (use previous day's return as a feature)\n",
    "forex_data['Prev_Return'] = forex_data['Return'].shift(1)\n",
    "forex_data = forex_data.dropna() \n"
   ]
  },
  {
   "cell_type": "markdown",
   "id": "dfa5e89a",
   "metadata": {},
   "source": [
    "# Segment 6: Split Data into Training and Testing Sets\n",
    "    The dataset is divided into training and testing sets. The 'Prev_Return' feature is stored in X, and the target variable 'Return' is stored in y. We use train_test_split to split the data, reserving 20% of it for testing."
   ]
  },
  {
   "cell_type": "code",
   "execution_count": 8,
   "id": "a8c1a5b9",
   "metadata": {},
   "outputs": [],
   "source": [
    "# Split the data into training and testing sets\n",
    "X = forex_data[['Prev_Return']].values\n",
    "y = forex_data['Return'].values\n",
    "X_train, X_test, y_train, y_test = train_test_split(X, y, test_size=0.2, random_state=42)\n"
   ]
  },
  {
   "cell_type": "markdown",
   "id": "55f4afb6",
   "metadata": {},
   "source": [
    "# Segment 7: Create and Train a Linear Regression Model\n",
    "    Here, we create a linear regression model and train it using the training data."
   ]
  },
  {
   "cell_type": "code",
   "execution_count": 9,
   "id": "a163b9fc",
   "metadata": {},
   "outputs": [
    {
     "data": {
      "text/plain": [
       "LinearRegression()"
      ]
     },
     "execution_count": 9,
     "metadata": {},
     "output_type": "execute_result"
    }
   ],
   "source": [
    "# Create and train a linear regression model\n",
    "model = LinearRegression()\n",
    "model.fit(X_train, y_train)\n"
   ]
  },
  {
   "cell_type": "markdown",
   "id": "b7ec37bb",
   "metadata": {},
   "source": [
    "# Segment 8: Make Predictions on the Test Set\n",
    "    We use the trained model to make predictions on the test set."
   ]
  },
  {
   "cell_type": "code",
   "execution_count": 10,
   "id": "557ddaad",
   "metadata": {},
   "outputs": [],
   "source": [
    "# Make predictions on the test set\n",
    "y_pred = model.predict(X_test)\n"
   ]
  },
  {
   "cell_type": "markdown",
   "id": "e5531a70",
   "metadata": {},
   "source": [
    "# Segment 9: Calculate Model Performance Metrics\n",
    "    Performance metrics, including Mean Squared Error (MSE) and R-squared (R2), are calculated to evaluate the model's accuracy."
   ]
  },
  {
   "cell_type": "code",
   "execution_count": 11,
   "id": "b8174d31",
   "metadata": {},
   "outputs": [],
   "source": [
    "# Calculate model performance metrics\n",
    "mse = mean_squared_error(y_test, y_pred)\n",
    "r2 = r2_score(y_test, y_pred)\n"
   ]
  },
  {
   "cell_type": "markdown",
   "id": "0cbffc5f",
   "metadata": {},
   "source": [
    "# Segment 10: Print Model Statistics\n",
    "    The code prints out the calculated model statistics, which provide insight into how well the model performed"
   ]
  },
  {
   "cell_type": "code",
   "execution_count": 12,
   "id": "4fa08aa9",
   "metadata": {},
   "outputs": [
    {
     "name": "stdout",
     "output_type": "stream",
     "text": [
      "Mean Squared Error: 0.0000\n",
      "R-squared: 0.0002\n"
     ]
    }
   ],
   "source": [
    "# Print model statistics\n",
    "print(f'Mean Squared Error: {mse:.4f}')\n",
    "print(f'R-squared: {r2:.4f}')\n"
   ]
  },
  {
   "cell_type": "markdown",
   "id": "e2be0447",
   "metadata": {},
   "source": [
    "# Segment 11: Plot Actual vs. Predicted Returns\n",
    "    This segment generates a scatter plot that shows the actual returns in blue and the predicted returns in red. It provides a visual representation of how well the model's predictions align with the actual data"
   ]
  },
  {
   "cell_type": "code",
   "execution_count": 13,
   "id": "6298c741",
   "metadata": {},
   "outputs": [
    {
     "data": {
      "image/png": "[encoded data removed]",
      "text/plain": [
       "<Figure size 864x432 with 1 Axes>"
      ]
     },
     "metadata": {
      "needs_background": "light"
     },
     "output_type": "display_data"
    }
   ],
   "source": [
    "# Plot actual vs. predicted returns\n",
    "plt.figure(figsize=(12, 6))\n",
    "plt.scatter(X_test, y_test, color='blue', label='Actual Returns', alpha=0.6)\n",
    "plt.plot(X_test, y_pred, color='red', linewidth=2, label='Predicted Returns')\n",
    "plt.xlabel('Previous Day\\'s Return')\n",
    "plt.ylabel('Daily Return')\n",
    "plt.title('Forex Trading Prediction')\n",
    "plt.legend()\n",
    "plt.show()\n"
   ]
  }
 ],
 "metadata": {
  "kernelspec": {
   "display_name": "Python 3 (ipykernel)",
   "language": "python",
   "name": "python3"
  },
  "language_info": {
   "codemirror_mode": {
    "name": "ipython",
    "version": 3
   },
   "file_extension": ".py",
   "mimetype": "text/x-python",
   "name": "python",
   "nbconvert_exporter": "python",
   "pygments_lexer": "ipython3",
   "version": "3.9.12"
  }
 },
 "nbformat": 4,
 "nbformat_minor": 5
}
